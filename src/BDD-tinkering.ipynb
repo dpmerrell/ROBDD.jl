{
 "cells": [
  {
   "cell_type": "code",
   "execution_count": null,
   "metadata": {},
   "outputs": [],
   "source": [
    "using Base.Meta"
   ]
  },
  {
   "cell_type": "code",
   "execution_count": null,
   "metadata": {},
   "outputs": [],
   "source": [
    "a_expr = Meta.parse(\"(b & !c) | (!b & c)\")"
   ]
  },
  {
   "cell_type": "code",
   "execution_count": null,
   "metadata": {},
   "outputs": [],
   "source": [
    "show_sexpr(a_expr)"
   ]
  },
  {
   "cell_type": "code",
   "execution_count": 1,
   "metadata": {},
   "outputs": [],
   "source": [
    "# The simple building block of our ROBDDs.\n",
    "struct BDDNode\n",
    "    var::Int64\n",
    "    lo::Int64\n",
    "    hi::Int64\n",
    "end"
   ]
  },
  {
   "cell_type": "code",
   "execution_count": 6,
   "metadata": {},
   "outputs": [
    {
     "data": {
      "text/plain": [
       "ROBDDContext"
      ]
     },
     "execution_count": 6,
     "metadata": {},
     "output_type": "execute_result"
    }
   ],
   "source": [
    "# We define a `ROBDDContext` that \n",
    "# (1) tracks the variables we're working with, and their ordering; and\n",
    "# (2) maintains some hash tables for bookkeeping\n",
    "\n",
    "mutable struct NodeTable\n",
    "    d::Dict{Int64,BDDNode}\n",
    "    latest::Int64\n",
    "end\n",
    "\n",
    "function NodeTable(n::Int64)\n",
    "    d = Dict{Int64,BDDNode}()\n",
    "    d[0] = BDDNode(n+1,n+1,n+1)\n",
    "    d[1] = BDDNode(n+1,n+1,n+1)\n",
    "    return NodeTable(d,1)\n",
    "end\n",
    "\n",
    "mutable struct LookupTable\n",
    "    d::Dict{BDDNode,Int64}\n",
    "end\n",
    "\n",
    "LookupTable() = LookupTable(Dict{BDDNode,Int64}())\n",
    "\n",
    "struct ROBDDContext\n",
    "    order::Vector{Symbol}\n",
    "    T::NodeTable\n",
    "    H::LookupTable\n",
    "end\n",
    "\n",
    "ROBDDContext(order::Vector{Symbol}) = ROBDDContext(order, NodeTable(length(order)), LookupTable())"
   ]
  },
  {
   "cell_type": "code",
   "execution_count": 3,
   "metadata": {},
   "outputs": [
    {
     "data": {
      "text/plain": [
       "hi (generic function with 1 method)"
      ]
     },
     "execution_count": 3,
     "metadata": {},
     "output_type": "execute_result"
    }
   ],
   "source": [
    "# Some essential functionality for the ROBDDContext \n",
    "# and its members.\n",
    "\n",
    "import Base: getindex, setindex!\n",
    "\n",
    "# Basic operations for the node table\n",
    "function add!(T::NodeTable, node::BDDNode)\n",
    "    T.latest = T.latest + 1\n",
    "    T.d[T.latest] = node\n",
    "    return T.latest\n",
    "end\n",
    "\n",
    "getindex(T::NodeTable, idx::Int64) = T.d[idx]\n",
    "\n",
    "\n",
    "# Basic operations for the \"inverse\" lookup table\n",
    "member(H::LookupTable, node::BDDNode) = haskey(H.d, node)\n",
    "\n",
    "getindex(H::LookupTable, node::BDDNode) = H.d[node]\n",
    "\n",
    "function setindex!(H::LookupTable, idx::Int64, node::BDDNode)\n",
    "    setindex!(H.d, idx, node)\n",
    "end\n",
    "\n",
    "function get_or_add(ctxt::ROBDDContext, node::BDDNode)\n",
    "    if node.lo == node.hi\n",
    "        return node.lo\n",
    "    elseif member(ctxt.H, node)\n",
    "        return ctxt.H[node]\n",
    "    else\n",
    "        u = add!(ctxt.T, node)\n",
    "        ctxt.H[node] = u\n",
    "        return u\n",
    "    end\n",
    "end\n",
    "\n",
    "var(ctxt::ROBDDContext, idx::Int64) = ctxt.T[idx].var\n",
    "lo(ctxt::ROBDDContext, idx::Int64) = ctxt.T[idx].lo\n",
    "hi(ctxt::ROBDDContext, idx::Int64) = ctxt.T[idx].hi"
   ]
  },
  {
   "cell_type": "code",
   "execution_count": 9,
   "metadata": {},
   "outputs": [
    {
     "data": {
      "text/plain": [
       "apply (generic function with 1 method)"
      ]
     },
     "execution_count": 9,
     "metadata": {},
     "output_type": "execute_result"
    }
   ],
   "source": [
    "function apply(ctxt::ROBDDContext, op::Function, idx1::Int64, idx2::Int64; \n",
    "               memo::Dict{Tuple{Function,Int64,Int64},Int64}=Dict{Tuple{Function,Int64,Int64},Int64}())\n",
    "\n",
    "    function rec_app(u1, u2)\n",
    "        if haskey(memo, (op,u1,u2))\n",
    "            return memo[(op,u1,u2)]\n",
    "        elseif in(u1, (0,1)) & in(u2, (0,1))\n",
    "            u = Int64(op(Bool(u1), Bool(u2)))\n",
    "        elseif var(ctxt, u1) == var(ctxt, u2)\n",
    "            u = get_or_add(var(ctxt,u1), \n",
    "                           rec_app(lo(ctxt,u1), lo(ctxt,u2)), \n",
    "                           rec_app(hi(ctxt,u1), hi(ctxt,u2)))\n",
    "        elseif var(ctxt, u1) < var(ctxt, u2)\n",
    "            u = get_or_add(var(ctxt,u1),\n",
    "                           rec_app(lo(ctxt, u1), u2),\n",
    "                           rec_app(hi(ctxt, u1), u2)\n",
    "                           )\n",
    "        else\n",
    "            u = get_or_add(var(ctxt,u2),\n",
    "                           rec_app(u1, lo(ctxt, u2)),\n",
    "                           rec_app(u1, hi(ctxt, u2))\n",
    "                           )\n",
    "        end\n",
    "        memo[(op,u1,u2)] = u\n",
    "        return u\n",
    "    end\n",
    "    \n",
    "    return rec_app(idx1, idx2)\n",
    "end"
   ]
  },
  {
   "cell_type": "code",
   "execution_count": 10,
   "metadata": {},
   "outputs": [
    {
     "data": {
      "text/plain": [
       "ROBDDContext([:x1, :x2], NodeTable(Dict{Int64,BDDNode}(0 => BDDNode(3, 3, 3),1 => BDDNode(3, 3, 3)), 1), LookupTable(Dict{BDDNode,Int64}()))"
      ]
     },
     "execution_count": 10,
     "metadata": {},
     "output_type": "execute_result"
    }
   ],
   "source": [
    "my_ctxt = ROBDDContext([:x1,:x2])"
   ]
  },
  {
   "cell_type": "code",
   "execution_count": 13,
   "metadata": {},
   "outputs": [
    {
     "data": {
      "text/plain": [
       "1"
      ]
     },
     "execution_count": 13,
     "metadata": {},
     "output_type": "execute_result"
    }
   ],
   "source": [
    "apply(my_ctxt, |, 0, 0)"
   ]
  },
  {
   "cell_type": "code",
   "execution_count": null,
   "metadata": {},
   "outputs": [],
   "source": [
    "myexpr = Meta.parse(\"a | b | c | d | e\")"
   ]
  },
  {
   "cell_type": "code",
   "execution_count": null,
   "metadata": {},
   "outputs": [],
   "source": [
    "myexpr = "
   ]
  },
  {
   "cell_type": "code",
   "execution_count": null,
   "metadata": {},
   "outputs": [],
   "source": [
    "Expr(:call, :&, :f, a)"
   ]
  },
  {
   "cell_type": "code",
   "execution_count": null,
   "metadata": {},
   "outputs": [],
   "source": [
    "myexpr = Expr(:call, :&, true, false)"
   ]
  },
  {
   "cell_type": "code",
   "execution_count": null,
   "metadata": {},
   "outputs": [],
   "source": [
    "supertype(Symbol)"
   ]
  },
  {
   "cell_type": "code",
   "execution_count": null,
   "metadata": {},
   "outputs": [],
   "source": []
  },
  {
   "cell_type": "code",
   "execution_count": null,
   "metadata": {},
   "outputs": [],
   "source": [
    "function dumb_func(foo::Bool, bar::Bool)::Bool\n",
    "    return false\n",
    "end"
   ]
  },
  {
   "cell_type": "code",
   "execution_count": null,
   "metadata": {},
   "outputs": [],
   "source": [
    "println(typeof(dumb_func))"
   ]
  },
  {
   "cell_type": "code",
   "execution_count": null,
   "metadata": {},
   "outputs": [],
   "source": [
    "fing = methods(dumb_func)"
   ]
  },
  {
   "cell_type": "code",
   "execution_count": null,
   "metadata": {},
   "outputs": [],
   "source": [
    "typeof(&) <: Function"
   ]
  },
  {
   "cell_type": "code",
   "execution_count": null,
   "metadata": {},
   "outputs": [],
   "source": []
  },
  {
   "cell_type": "code",
   "execution_count": null,
   "metadata": {},
   "outputs": [],
   "source": []
  },
  {
   "cell_type": "code",
   "execution_count": null,
   "metadata": {},
   "outputs": [],
   "source": [
    "function dumb_func(x)\n",
    "    function sub_func(y)\n",
    "        return x + y\n",
    "    end\n",
    "    \n",
    "    return sub_func(x)\n",
    "end"
   ]
  },
  {
   "cell_type": "code",
   "execution_count": null,
   "metadata": {},
   "outputs": [],
   "source": [
    "dumb_func(10)"
   ]
  },
  {
   "cell_type": "code",
   "execution_count": null,
   "metadata": {},
   "outputs": [],
   "source": []
  }
 ],
 "metadata": {
  "kernelspec": {
   "display_name": "Julia 1.4.2",
   "language": "julia",
   "name": "julia-1.4"
  },
  "language_info": {
   "file_extension": ".jl",
   "mimetype": "application/julia",
   "name": "julia",
   "version": "1.4.2"
  }
 },
 "nbformat": 4,
 "nbformat_minor": 2
}
