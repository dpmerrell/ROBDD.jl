{
 "cells": [
  {
   "cell_type": "code",
   "execution_count": 1,
   "metadata": {},
   "outputs": [],
   "source": [
    "# The simple building block of our ROBDDs.\n",
    "struct BDDNode\n",
    "    var::Int64\n",
    "    lo::Int64\n",
    "    hi::Int64\n",
    "end"
   ]
  },
  {
   "cell_type": "code",
   "execution_count": 2,
   "metadata": {},
   "outputs": [
    {
     "data": {
      "text/plain": [
       "ROBDDContext"
      ]
     },
     "execution_count": 2,
     "metadata": {},
     "output_type": "execute_result"
    }
   ],
   "source": [
    "# We define a `ROBDDContext` that \n",
    "# (1) tracks the variables we're working with, and their ordering; and\n",
    "# (2) maintains some hash tables for bookkeeping\n",
    "\n",
    "mutable struct NodeTable\n",
    "    d::Dict{Int64,BDDNode}\n",
    "    latest::Int64\n",
    "end\n",
    "\n",
    "function NodeTable(n::Int64)\n",
    "    d = Dict{Int64,BDDNode}()\n",
    "    d[0] = BDDNode(n+1,0,0)\n",
    "    d[1] = BDDNode(n+1,1,1)\n",
    "    return NodeTable(d,1)\n",
    "end\n",
    "\n",
    "mutable struct LookupTable\n",
    "    d::Dict{BDDNode,Int64}\n",
    "end\n",
    "\n",
    "LookupTable() = LookupTable(Dict{BDDNode,Int64}())\n",
    "\n",
    "struct ROBDDContext\n",
    "    order::Vector{Symbol}\n",
    "    order_lookup::Dict{Symbol,Int64}\n",
    "    T::NodeTable\n",
    "    H::LookupTable\n",
    "end\n",
    "\n",
    "ROBDDContext(order::Vector{Symbol}) = ROBDDContext(order, \n",
    "                                                   Dict(name=>idx for (idx,name) in enumerate(order)), \n",
    "                                                   NodeTable(length(order)), \n",
    "                                                   LookupTable())"
   ]
  },
  {
   "cell_type": "code",
   "execution_count": 3,
   "metadata": {},
   "outputs": [
    {
     "data": {
      "text/plain": [
       "hi (generic function with 1 method)"
      ]
     },
     "execution_count": 3,
     "metadata": {},
     "output_type": "execute_result"
    }
   ],
   "source": [
    "# Some essential functionality for the ROBDDContext \n",
    "# and its members.\n",
    "\n",
    "import Base: getindex, setindex!\n",
    "\n",
    "# Basic operations for the node table\n",
    "function add!(T::NodeTable, node::BDDNode)\n",
    "    T.latest = T.latest + 1\n",
    "    T.d[T.latest] = node\n",
    "    return T.latest\n",
    "end\n",
    "\n",
    "getindex(T::NodeTable, idx::Int64) = T.d[idx]\n",
    "\n",
    "\n",
    "# Basic operations for the \"inverse\" lookup table\n",
    "member(H::LookupTable, node::BDDNode) = haskey(H.d, node)\n",
    "\n",
    "getindex(H::LookupTable, node::BDDNode) = H.d[node]\n",
    "\n",
    "function setindex!(H::LookupTable, idx::Int64, node::BDDNode)\n",
    "    setindex!(H.d, idx, node)\n",
    "end\n",
    "\n",
    "function get_or_add(ctxt::ROBDDContext, node::BDDNode)\n",
    "    if node.lo == node.hi\n",
    "        return node.lo\n",
    "    elseif member(ctxt.H, node)\n",
    "        return ctxt.H[node]\n",
    "    else\n",
    "        u = add!(ctxt.T, node)\n",
    "        ctxt.H[node] = u\n",
    "        return u\n",
    "    end\n",
    "end\n",
    "\n",
    "var(ctxt::ROBDDContext, idx::Int64) = ctxt.T[idx].var\n",
    "lo(ctxt::ROBDDContext, idx::Int64) = ctxt.T[idx].lo\n",
    "hi(ctxt::ROBDDContext, idx::Int64) = ctxt.T[idx].hi"
   ]
  },
  {
   "cell_type": "code",
   "execution_count": 4,
   "metadata": {},
   "outputs": [
    {
     "data": {
      "text/plain": [
       "apply"
      ]
     },
     "execution_count": 4,
     "metadata": {},
     "output_type": "execute_result"
    }
   ],
   "source": [
    "\"\"\"\n",
    "Apply a unary operation `op` to a BDD\n",
    "\"\"\"\n",
    "function apply(ctxt::ROBDDContext, op::Function, idx::Int64;\n",
    "               memo::Dict{Tuple{Function,Vararg{Int64}},Int64}=Dict{Tuple{Function,Vararg{Int64}},Int64}())\n",
    "    \n",
    "    function rec_app(u1)\n",
    "        if haskey(memo, (op,u1))\n",
    "            return memo[(op,u1)]\n",
    "        elseif in(u1, (0,1))\n",
    "            u = Int64(op(Bool(u1)))\n",
    "        else\n",
    "            u = get_or_add(ctxt, \n",
    "                           BDDNode(var(ctxt,u1), \n",
    "                                   rec_app(lo(ctxt,u1)),\n",
    "                                   rec_app(hi(ctxt,u1))\n",
    "                                  )\n",
    "                           )\n",
    "        end\n",
    "        memo[(op,u1)] = u\n",
    "        return u\n",
    "    end\n",
    "        \n",
    "    return rec_app(idx)\n",
    "end\n",
    "    \n",
    "\"\"\"\n",
    "Apply a binary operation `op` to two BDDs \n",
    "\"\"\"\n",
    "function apply(ctxt::ROBDDContext, op::Function, idx1::Int64, idx2::Int64; \n",
    "               memo::Dict{Tuple{Function,Vararg{Int64}},Int64}=Dict{Tuple{Function,Vararg{Int64}},Int64}())\n",
    "\n",
    "    function rec_app(u1, u2)\n",
    "        if haskey(memo, (op,u1,u2))\n",
    "            return memo[(op,u1,u2)]\n",
    "        elseif in(u1, (0,1)) & in(u2, (0,1))\n",
    "            u = Int64(op(Bool(u1), Bool(u2)))\n",
    "        elseif var(ctxt, u1) == var(ctxt, u2)\n",
    "            u = get_or_add(ctxt, \n",
    "                           BDDNode(var(ctxt,u1), \n",
    "                                   rec_app(lo(ctxt,u1), lo(ctxt,u2)), \n",
    "                                   rec_app(hi(ctxt,u1), hi(ctxt,u2))\n",
    "                                   )\n",
    "                           )\n",
    "        elseif var(ctxt, u1) < var(ctxt, u2)\n",
    "            u = get_or_add(ctxt,\n",
    "                           BDDNode(var(ctxt,u1),\n",
    "                                   rec_app(lo(ctxt, u1), u2),\n",
    "                                   rec_app(hi(ctxt, u1), u2)\n",
    "                                   )\n",
    "                           )\n",
    "        else\n",
    "            u = get_or_add(ctxt,\n",
    "                           BDDNode(var(ctxt,u2),\n",
    "                                   rec_app(u1, lo(ctxt, u2)),\n",
    "                                   rec_app(u1, hi(ctxt, u2))\n",
    "                                   )\n",
    "                           )\n",
    "        end\n",
    "        memo[(op,u1,u2)] = u\n",
    "        return u\n",
    "    end\n",
    "    \n",
    "    return rec_app(idx1, idx2)\n",
    "end"
   ]
  },
  {
   "cell_type": "code",
   "execution_count": 5,
   "metadata": {},
   "outputs": [
    {
     "data": {
      "text/plain": [
       "build_robdd (generic function with 1 method)"
      ]
     },
     "execution_count": 5,
     "metadata": {},
     "output_type": "execute_result"
    }
   ],
   "source": [
    "function build_robdd(ctxt::ROBDDContext, bool_expr::Union{Bool,Symbol,Expr})\n",
    "    memo = Dict{Tuple{Function,Vararg{Int64}},Int64}()\n",
    "    \n",
    "    function rec_build(my_expr)\n",
    "        # Terminals\n",
    "        if typeof(my_expr) == Bool\n",
    "            return Int64(my_expr)\n",
    "        elseif typeof(my_expr) == Symbol\n",
    "            u = get_or_add(ctxt, \n",
    "                           BDDNode(ctxt.order_lookup[my_expr],0,1)\n",
    "                           )\n",
    "        # Boolean op nodes\n",
    "        else\n",
    "            op = eval(my_expr.args[1])\n",
    "            sub_exprs = my_expr.args[2:end]\n",
    "            sub_bdds = Vector{Int64}(undef,length(sub_exprs))\n",
    "            for (i,se) in enumerate(sub_exprs)\n",
    "                sub_bdds[i] = rec_build(se)\n",
    "            end\n",
    "            u = apply(ctxt, op, sub_bdds...; memo=memo)\n",
    "        end\n",
    "        return u\n",
    "    end\n",
    "    \n",
    "    return rec_build(bool_expr)\n",
    "end"
   ]
  },
  {
   "cell_type": "code",
   "execution_count": 6,
   "metadata": {},
   "outputs": [
    {
     "data": {
      "text/plain": [
       "ROBDDContext([:x1, :x2], Dict(:x2 => 2,:x1 => 1), NodeTable(Dict{Int64,BDDNode}(0 => BDDNode(3, 0, 0),1 => BDDNode(3, 1, 1)), 1), LookupTable(Dict{BDDNode,Int64}()))"
      ]
     },
     "execution_count": 6,
     "metadata": {},
     "output_type": "execute_result"
    }
   ],
   "source": [
    "my_ctxt = ROBDDContext([:x1,:x2])"
   ]
  },
  {
   "cell_type": "code",
   "execution_count": 11,
   "metadata": {},
   "outputs": [
    {
     "data": {
      "text/plain": [
       ":(!x1 | x2)"
      ]
     },
     "execution_count": 11,
     "metadata": {},
     "output_type": "execute_result"
    }
   ],
   "source": [
    "myexpr = Meta.parse(\"!x1 | x2\")"
   ]
  },
  {
   "cell_type": "code",
   "execution_count": 12,
   "metadata": {},
   "outputs": [
    {
     "data": {
      "text/plain": [
       "5"
      ]
     },
     "execution_count": 12,
     "metadata": {},
     "output_type": "execute_result"
    }
   ],
   "source": [
    "build_robdd(my_ctxt, myexpr)"
   ]
  },
  {
   "cell_type": "code",
   "execution_count": 13,
   "metadata": {},
   "outputs": [
    {
     "data": {
      "text/plain": [
       "ROBDDContext([:x2, :x1], Dict(:x2 => 1,:x1 => 2), NodeTable(Dict{Int64,BDDNode}(0 => BDDNode(3, 0, 0),1 => BDDNode(3, 1, 1)), 1), LookupTable(Dict{BDDNode,Int64}()))"
      ]
     },
     "execution_count": 13,
     "metadata": {},
     "output_type": "execute_result"
    }
   ],
   "source": [
    "new_ctxt = ROBDDContext([:x2,:x1])"
   ]
  },
  {
   "cell_type": "code",
   "execution_count": 14,
   "metadata": {},
   "outputs": [
    {
     "data": {
      "text/plain": [
       "5"
      ]
     },
     "execution_count": 14,
     "metadata": {},
     "output_type": "execute_result"
    }
   ],
   "source": [
    "build_robdd(new_ctxt, myexpr)"
   ]
  },
  {
   "cell_type": "code",
   "execution_count": 15,
   "metadata": {},
   "outputs": [
    {
     "data": {
      "text/plain": [
       "BDDNode(1, 3, 1)"
      ]
     },
     "execution_count": 15,
     "metadata": {},
     "output_type": "execute_result"
    }
   ],
   "source": [
    "new_ctxt.T[5]"
   ]
  },
  {
   "cell_type": "code",
   "execution_count": null,
   "metadata": {},
   "outputs": [],
   "source": []
  }
 ],
 "metadata": {
  "kernelspec": {
   "display_name": "Julia 1.4.2",
   "language": "julia",
   "name": "julia-1.4"
  },
  "language_info": {
   "file_extension": ".jl",
   "mimetype": "application/julia",
   "name": "julia",
   "version": "1.4.2"
  }
 },
 "nbformat": 4,
 "nbformat_minor": 2
}
